{
 "cells": [
  {
   "cell_type": "code",
   "execution_count": 1,
   "metadata": {
    "collapsed": true
   },
   "outputs": [
    {
     "name": "stdout",
     "output_type": "stream",
     "text": [
      "Vocab size: 35832\n",
      "Vocab sample: [('the', 1), ('link', 2), ('a', 3), ('to', 4), ('this', 5), ('and', 6), ('li', 7), ('code', 8), ('href', 9), ('for', 10)]\n",
      "            0         1         2         3         4         5         6   \\\n",
      "the   0.093891 -0.037662 -0.413430  0.404881  0.003013 -0.486482  0.411773   \n",
      "link -0.049473  0.325224 -0.084635  1.111150  0.523763 -0.188431  0.110770   \n",
      "a    -0.063133  0.695072 -0.314449  0.934845  0.217506  0.020758  0.097685   \n",
      "to   -0.244268  0.066341 -0.366444  0.511691  0.425830 -0.378460 -0.027685   \n",
      "this -0.482380  0.388689 -0.416925  0.082143  0.773172 -0.073811  0.451000   \n",
      "\n",
      "            7         8         9   ...        90        91        92  \\\n",
      "the   0.166366  0.039857 -0.111558  ... -0.132813  0.067953  0.381048   \n",
      "link  0.239287  0.163608  0.149672  ... -0.054802 -0.120080  1.036425   \n",
      "a     0.266074  0.052528  0.066707  ... -0.120812 -0.174735  0.627173   \n",
      "to    0.236013 -0.050840 -0.038744  ... -0.288278 -0.038495  0.331328   \n",
      "this -0.476150 -0.084709 -0.042697  ... -0.746589 -0.309359 -0.726095   \n",
      "\n",
      "            93        94        95        96        97        98        99  \n",
      "the   0.057482 -0.318260  0.117043  0.120602 -0.528459  0.097669  0.030378  \n",
      "link -0.092524 -0.107036 -0.139145 -0.026538 -0.188632 -0.127802 -0.073463  \n",
      "a     0.016919 -0.077122 -0.142388 -0.014090 -0.056705 -0.246706 -0.121853  \n",
      "to    0.109441 -0.044384  0.254976  0.254253 -0.178445 -0.285445  0.176695  \n",
      "this  0.419522 -0.542845 -0.607665 -0.008038 -0.784021  0.227089 -0.268519  \n",
      "\n",
      "[5 rows x 100 columns]\n"
     ]
    },
    {
     "name": "stderr",
     "output_type": "stream",
     "text": [
      "2022-01-02 22:26:58.496709: I tensorflow/compiler/jit/xla_cpu_device.cc:41] Not creating XLA devices, tf_xla_enable_xla_devices not set\n",
      "2022-01-02 22:26:58.496834: I tensorflow/core/platform/cpu_feature_guard.cc:142] This TensorFlow binary is optimized with oneAPI Deep Neural Network Library (oneDNN) to use the following CPU instructions in performance-critical operations:  SSE4.1 SSE4.2 AVX AVX2 FMA\n",
      "To enable them in other operations, rebuild TensorFlow with the appropriate compiler flags.\n",
      "2022-01-02 22:26:58.497578: I tensorflow/core/common_runtime/process_util.cc:146] Creating new thread pool with default inter op setting: 2. Tune using inter_op_parallelism_threads for best performance.\n"
     ]
    },
    {
     "name": "stdout",
     "output_type": "stream",
     "text": [
      "(35831, 35831)\n",
      "{'code': ['runtime', 'parser', 'env', 'strong', 'async'], 'link': ['a', 'href', 'li', 'to', 'native'], 'fix': ['fixed', 'a', 'http', 'link', 'import'], 'bug': ['cleanup', 'longer', 'fixing', 'improvements', 'deprecation'], 'error': ['improve', 'py', 'css', 'command', 'element']}\n",
      "Total words: 30 \tWord Embedding shapes: (30, 100)\n"
     ]
    },
    {
     "name": "stderr",
     "output_type": "stream",
     "text": [
      "/home/conn/miniconda3/envs/GithubProject/lib/python3.9/site-packages/sklearn/manifold/_t_sne.py:780: FutureWarning: The default initialization in TSNE will change from 'random' to 'pca' in 1.2.\n",
      "  warnings.warn(\n",
      "/home/conn/miniconda3/envs/GithubProject/lib/python3.9/site-packages/sklearn/manifold/_t_sne.py:790: FutureWarning: The default learning rate in TSNE will change from 200.0 to 'auto' in 1.2.\n",
      "  warnings.warn(\n"
     ]
    },
    {
     "data": {
      "text/plain": "<Figure size 1008x576 with 1 Axes>",
      "image/png": "[encoded data removed]"
     },
     "metadata": {
      "needs_background": "light"
     },
     "output_type": "display_data"
    }
   ],
   "source": [
    "from tensorflow.keras.preprocessing import text\n",
    "from tensorflow.keras.preprocessing.sequence import skipgrams\n",
    "import numpy as np\n",
    "from tensorflow.keras.models import load_model\n",
    "from tensorflow.keras.layers import Dense, Reshape, Embedding, Dot, Input\n",
    "from tensorflow.keras.models import Sequential, Model\n",
    "import pandas as pd\n",
    "\n",
    "def yield_strings(file_path='corpus.txt'):\n",
    "    with open(file_path, 'r') as f:\n",
    "        for line in f:\n",
    "            yield line.strip()\n",
    "\n",
    "tokenizer = text.Tokenizer()\n",
    "tokenizer.fit_on_texts(yield_strings('corpus.txt'))\n",
    "\n",
    "word2idx = tokenizer.word_index\n",
    "idx2word = {v: k for k, v in word2idx.items()}\n",
    "\n",
    "vocab_size = len(word2idx) + 1\n",
    "embedding_dim = 100\n",
    "\n",
    "word_ids = [[word2idx[w] for w in text.text_to_word_sequence(s)] for s in yield_strings('corpus.txt')]\n",
    "print('Vocab size:', vocab_size)\n",
    "print('Vocab sample:', list(word2idx.items())[:10])\n",
    "\n",
    "\n",
    "# skip_grams = [skipgrams(word_id, vocabulary_size=vocab_size, window_size=10) for word_id in word_ids]\n",
    "# pairs, labels = skip_grams[0][0], skip_grams[0][1]\n",
    "# for i in range(10):\n",
    "#     print(\"({:s} ({:d}), {:s} ({:d})) -> {:d}\".format(\n",
    "#           idx2word[pairs[i][0]], pairs[i][0],\n",
    "#           idx2word[pairs[i][1]], pairs[i][1],\n",
    "#           labels[i]))\n",
    "#\n",
    "# word_input = Input(shape=(1,), dtype='int32')\n",
    "# word_embedding = Embedding(vocab_size, embedding_dim,\n",
    "#                          embeddings_initializer=\"glorot_uniform\",\n",
    "#                          input_length=1)(word_input)\n",
    "# word_reshape = Reshape((embedding_dim,))(word_embedding)\n",
    "#\n",
    "# context_input = Input(shape=(1,), dtype='int32')\n",
    "# context_embedding = Embedding(vocab_size, embedding_dim,\n",
    "#                   embeddings_initializer=\"glorot_uniform\",\n",
    "#                   input_length=1)(context_input)\n",
    "# context_reshape = Reshape((embedding_dim,))(context_embedding)\n",
    "#\n",
    "#\n",
    "# dotted_layer = Dot(axes=1)([word_reshape, context_reshape])\n",
    "# output_layer = Dense(1, kernel_initializer=\"glorot_uniform\", activation=\"sigmoid\")(dotted_layer)\n",
    "# skipgram_model = Model(inputs=[word_input, context_input], outputs=output_layer)\n",
    "# skipgram_model.compile(loss=\"mean_squared_error\", optimizer=\"rmsprop\")\n",
    "#\n",
    "# print(skipgram_model.summary())\n",
    "#\n",
    "#\n",
    "# for epoch in range(0, 5):\n",
    "#     loss = 0\n",
    "#     print(\"Epoch:\", epoch)\n",
    "#     for i, elem in enumerate(skip_grams):\n",
    "#         if elem == ([], []):\n",
    "#             continue\n",
    "#         pair_first_elem = np.array(list(zip(*elem[0]))[0], dtype='int32')\n",
    "#         pair_second_elem = np.array(list(zip(*elem[0]))[1], dtype='int32')\n",
    "#         label_elem = np.array(elem[1], dtype='int32')\n",
    "#         X = [pair_first_elem, pair_second_elem]\n",
    "#         Y = label_elem\n",
    "#         if i % 10000 == 0:\n",
    "#             print('Processed {} (skip_first, skip_second, relevance) pairs'.format(i))\n",
    "#             print('Loss:', loss)\n",
    "#         loss += skipgram_model.train_on_batch(X, Y)\n",
    "#     # merge_layer = skipgram_model.layers[0]\n",
    "#     # word_embedding_weights = merge_layer.get_weights()[0]\n",
    "#     # trained_word_model = merge_layer.layers[0]\n",
    "#     # trained_word_model.save('models/word_model{}.h5'.format(epoch))\n",
    "#     skipgram_model.save('models/skipgram_model{}.h5'.format(epoch))\n",
    "#     print('Epoch:', epoch, 'Loss:', loss)\n",
    "#\n",
    "# # merge_layer = skipgram_model.layers[0]\n",
    "# # word_embedding_weights = merge_layer.get_weights()[0]\n",
    "# # trained_word_model = merge_layer.layers[0]\n",
    "# # trained_word_model.save('models/word_model.h5')\n",
    "# skipgram_model.save('models/skipgram_model.h5')\n",
    "# print('Saved models')\n",
    "\n",
    "model = load_model('models/skipgram_model.h5')\n",
    "word_embedding_layer = model.get_layer(index=2)\n",
    "word_embedding_weights = word_embedding_layer.get_weights()[0][1:]\n",
    "print(pd.DataFrame(word_embedding_weights, index=idx2word.values()).head())\n",
    "from sklearn.metrics.pairwise import euclidean_distances\n",
    "\n",
    "distance_matrix = euclidean_distances(word_embedding_weights)\n",
    "print(distance_matrix.shape)\n",
    "\n",
    "similar_words = {search_term: [idx2word[idx] for idx in distance_matrix[word2idx[search_term]-1].argsort()[1:6]+1]\n",
    "                   for search_term in ['code', 'link', 'fix', 'bug', 'error']}\n",
    "\n",
    "print(similar_words)\n",
    "\n",
    "\n",
    "from sklearn.manifold import TSNE\n",
    "import matplotlib.pyplot as plt\n",
    "\n",
    "words = sum([[k] + v for k, v in similar_words.items()], [])\n",
    "words_ids = [word2idx[w] for w in words]\n",
    "word_vectors = np.array([word_embedding_weights[idx] for idx in words_ids])\n",
    "print('Total words:', len(words), '\\tWord Embedding shapes:', word_vectors.shape)\n",
    "\n",
    "tsne = TSNE(n_components=2, random_state=0, n_iter=10000, perplexity=3)\n",
    "np.set_printoptions(suppress=True)\n",
    "T = tsne.fit_transform(word_vectors)\n",
    "labels = words\n",
    "\n",
    "plt.figure(figsize=(14, 8))\n",
    "plt.scatter(T[:, 0], T[:, 1], c='steelblue', edgecolors='k')\n",
    "for label, x, y in zip(labels, T[:, 0], T[:, 1]):\n",
    "    plt.annotate(label, xy=(x+1, y+1), xytext=(0, 0), textcoords='offset points')"
   ]
  },
  {
   "cell_type": "code",
   "execution_count": null,
   "outputs": [],
   "source": [],
   "metadata": {
    "collapsed": false,
    "pycharm": {
     "name": "#%%\n"
    }
   }
  }
 ],
 "metadata": {
  "kernelspec": {
   "display_name": "Python 3",
   "language": "python",
   "name": "python3"
  },
  "language_info": {
   "codemirror_mode": {
    "name": "ipython",
    "version": 2
   },
   "file_extension": ".py",
   "mimetype": "text/x-python",
   "name": "python",
   "nbconvert_exporter": "python",
   "pygments_lexer": "ipython2",
   "version": "2.7.6"
  }
 },
 "nbformat": 4,
 "nbformat_minor": 0
}